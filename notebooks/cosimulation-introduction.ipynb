{
 "cells": [
  {
   "cell_type": "markdown",
   "metadata": {},
   "source": [
    "# What is co-simulation?"
   ]
  },
  {
   "cell_type": "markdown",
   "metadata": {},
   "source": [
    "## Power System Models\n",
    "\n",
    "\n",
    "- Markets\n",
    "- Transmission\n",
    "- Distribution\n",
    "- Devices\n",
    "- Communication\n",
    "- Controls\n",
    "- Loads\n",
    "\n",
    "- Transient\n",
    "- Dynamic\n",
    "- Steady-State\n",
    "- Planning\n",
    "\n",
    "- Technical\n",
    "- Economic\n",
    "- Techno-economic"
   ]
  },
  {
   "cell_type": "markdown",
   "metadata": {},
   "source": [
    "\n",
    "\n",
    "![image.png](../data/img/advanced-tools-for-resource-planning.png)"
   ]
  },
  {
   "cell_type": "markdown",
   "metadata": {},
   "source": [
    "## Solutions\n",
    "\n",
    "\n",
    "- Curl up in a ball (Simplify)\n",
    "- Use two blankets (Co-simulation)\n",
    "- Use a bigger blanket (Bigger Computer)\n"
   ]
  },
  {
   "cell_type": "markdown",
   "metadata": {},
   "source": [
    "## What is co-simulation?\n",
    "\n",
    "- Execution of multiple distinct simulation objects together in coherent fashion\n",
    "- Co-simulation is used whenever a single simulator is insufficient to answer the relevant questions"
   ]
  },
  {
   "cell_type": "markdown",
   "metadata": {
    "heading_collapsed": true
   },
   "source": [
    "## Co-simulation\n",
    "\n",
    "**Standing on the Shoulder of Giants**\n",
    "\n",
    "- Lots of effort has gone into (sub) domain-specific tools. (So use them)\n",
    "    - Trusted by stakeholders\n",
    "    - Continue to improve\n",
    "- Allows focus on the “glue-ware”\n",
    "    - Faster prototyping for research\n",
    "    - Many frameworks\n",
    "- Encourages Modularity\n",
    "    - Swap models as needed"
   ]
  },
  {
   "cell_type": "markdown",
   "metadata": {},
   "source": [
    "## HELICS\n",
    "\n",
    "Capabilities:\n",
    "\n",
    "- **Scalable**: 2-100,000+ Federates\n",
    "- **Cross-platform**: HPC (Linux), Cloud, Workstations, Laptops (Windows/OSX)\n",
    "- **Modular**: mix and match tools\n",
    "- **Minimally invasive**: easy to use lab/commercial/open tools\n",
    "- **Open Source**: BSD-style.\n",
    "- **Many Simulation Types**:\n",
    "    - Discrete Event\n",
    "    - QSTS\n",
    "    - Dynamics\n",
    "- **Co-iteration enabled**: “tight coupling”"
   ]
  },
  {
   "cell_type": "markdown",
   "metadata": {
    "ExecuteTime": {
     "end_time": "2019-09-16T19:45:16.963441Z",
     "start_time": "2019-09-16T19:45:16.834795Z"
    }
   },
   "source": [
    "![](../data/img/gmlc-1.4.15.png)"
   ]
  },
  {
   "cell_type": "markdown",
   "metadata": {},
   "source": [
    "## HELICS Interfaces to key domain simulators"
   ]
  },
  {
   "cell_type": "markdown",
   "metadata": {
    "ExecuteTime": {
     "end_time": "2019-09-16T19:49:38.777102Z",
     "start_time": "2019-09-16T19:49:38.771712Z"
    }
   },
   "source": [
    "- Enable large-scale interdependency all-hazards studies: scale 2 to 100,000+ domain simulators\n",
    "- Diverse simulation types: \n",
    "    - Continuous, discrete, time series\n",
    "    - Steady-state, dynamic, transient\n",
    "    - Other energy systems \n",
    "- Support multiple platforms: HPC, cloud, workstations, laptops (Win, Linux, Mac)\n",
    "- Support standards: HLA, FMI, … \n",
    "\n",
    "![](../data/img/interfaces.png)"
   ]
  },
  {
   "cell_type": "markdown",
   "metadata": {},
   "source": [
    "## Terminology\n",
    "\n",
    "\n",
    "- Federate - An individual simulator that is computing something interesting and communicating with other simulators\n",
    "- Core - An object managing the interactions of one or more federates\n",
    "- Broker - An object coordinating multiple cores or brokers:\n",
    "    - There can be several layers of brokers\n",
    "- Root broker - The root broker in the hierarchy\n",
    "    - Last chance router\n",
    "    - Responsible for determining when to enter initialization mode for the federation\n",
    "- Federation - The set of all federates executing together in a single co-simulation\n"
   ]
  },
  {
   "cell_type": "markdown",
   "metadata": {
    "ExecuteTime": {
     "end_time": "2019-09-16T20:04:08.842629Z",
     "start_time": "2019-09-16T20:04:08.714533Z"
    }
   },
   "source": [
    "![](../data/img/architecture1.png)\n",
    "![](../data/img/architecture2.png)\n",
    "![](../data/img/architecture3.png)"
   ]
  },
  {
   "cell_type": "code",
   "execution_count": null,
   "metadata": {},
   "outputs": [],
   "source": []
  },
  {
   "cell_type": "code",
   "execution_count": null,
   "metadata": {},
   "outputs": [],
   "source": []
  },
  {
   "cell_type": "code",
   "execution_count": null,
   "metadata": {},
   "outputs": [],
   "source": []
  },
  {
   "cell_type": "code",
   "execution_count": null,
   "metadata": {},
   "outputs": [],
   "source": []
  },
  {
   "cell_type": "code",
   "execution_count": null,
   "metadata": {},
   "outputs": [],
   "source": []
  },
  {
   "cell_type": "code",
   "execution_count": null,
   "metadata": {},
   "outputs": [],
   "source": []
  },
  {
   "cell_type": "code",
   "execution_count": null,
   "metadata": {},
   "outputs": [],
   "source": []
  },
  {
   "cell_type": "code",
   "execution_count": null,
   "metadata": {},
   "outputs": [],
   "source": []
  },
  {
   "cell_type": "code",
   "execution_count": null,
   "metadata": {},
   "outputs": [],
   "source": []
  },
  {
   "cell_type": "code",
   "execution_count": null,
   "metadata": {},
   "outputs": [],
   "source": []
  },
  {
   "cell_type": "code",
   "execution_count": null,
   "metadata": {},
   "outputs": [],
   "source": []
  },
  {
   "cell_type": "code",
   "execution_count": null,
   "metadata": {},
   "outputs": [],
   "source": []
  },
  {
   "cell_type": "code",
   "execution_count": null,
   "metadata": {},
   "outputs": [],
   "source": []
  },
  {
   "cell_type": "code",
   "execution_count": null,
   "metadata": {},
   "outputs": [],
   "source": []
  },
  {
   "cell_type": "code",
   "execution_count": null,
   "metadata": {},
   "outputs": [],
   "source": []
  }
 ],
 "metadata": {
  "hide_input": false,
  "kernelspec": {
   "display_name": "Python [conda env:helics-environment] *",
   "language": "python",
   "name": "conda-env-helics-environment-py"
  },
  "language_info": {
   "codemirror_mode": {
    "name": "ipython",
    "version": 3
   },
   "file_extension": ".py",
   "mimetype": "text/x-python",
   "name": "python",
   "nbconvert_exporter": "python",
   "pygments_lexer": "ipython3",
   "version": "3.7.3"
  },
  "varInspector": {
   "cols": {
    "lenName": 16,
    "lenType": 16,
    "lenVar": 40
   },
   "kernels_config": {
    "python": {
     "delete_cmd_postfix": "",
     "delete_cmd_prefix": "del ",
     "library": "var_list.py",
     "varRefreshCmd": "print(var_dic_list())"
    },
    "r": {
     "delete_cmd_postfix": ") ",
     "delete_cmd_prefix": "rm(",
     "library": "var_list.r",
     "varRefreshCmd": "cat(var_dic_list()) "
    }
   },
   "types_to_exclude": [
    "module",
    "function",
    "builtin_function_or_method",
    "instance",
    "_Feature"
   ],
   "window_display": false
  }
 },
 "nbformat": 4,
 "nbformat_minor": 2
}
